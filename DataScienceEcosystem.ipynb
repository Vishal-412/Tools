{
 "cells": [
  {
   "cell_type": "markdown",
   "id": "c2c7c1e6-1e34-4d7b-9fcf-1ebb2fae1c47",
   "metadata": {},
   "source": [
    "## Author\n",
    "Vishal"
   ]
  },
  {
   "cell_type": "markdown",
   "id": "9c287269-a9ad-49d6-8aec-50974429b029",
   "metadata": {},
   "source": [
    "# Data Science Tools and Ecosystem"
   ]
  },
  {
   "cell_type": "markdown",
   "id": "ede828e4-db06-4aea-ba42-d2b5f3eda5a5",
   "metadata": {},
   "source": [
    "In this notebook, Data Science Tools and Ecosystem are summarized."
   ]
  },
  {
   "cell_type": "markdown",
   "id": "c2372fa6-4e6c-4efd-b6ea-92deed19a041",
   "metadata": {},
   "source": [
    "Objectives:\n",
    "1. Juypter notebook\n",
    "2. python programming\n",
    "3. arithmetic expressions\n",
    "\n"
   ]
  },
  {
   "cell_type": "markdown",
   "id": "50b7947c-bec5-48c2-aab0-2088d1c97b5f",
   "metadata": {},
   "source": [
    "Some of the popular languages that Data Scientists use are:\n",
    "1. Python\n",
    "2. R\n",
    "3. Scala\n",
    "4. c++"
   ]
  },
  {
   "cell_type": "markdown",
   "id": "516cecf4-4867-4aa3-9707-86b837efdc8f",
   "metadata": {},
   "source": [
    "Some of the commonly used libraries used by Data Scientists include:\n",
    "\n",
    "    1.Numpy\n",
    "    2.Keras\n",
    "    3.Pandas\n",
    "    4.GGplots\n",
    "    "
   ]
  },
  {
   "cell_type": "markdown",
   "id": "d5bafae1-a4f3-4484-a9c4-e586e2c47f59",
   "metadata": {},
   "source": [
    "|Data Science Tools|\n",
    "|-----------|\n",
    "| Rstudio |\n",
    "|Apache Spark|\n",
    "|Tensor flow|"
   ]
  },
  {
   "cell_type": "markdown",
   "id": "72c5e5d4-8dc9-4459-bd7f-c7059ed9242e",
   "metadata": {},
   "source": [
    "Below are a few examples of evaluating arithmetic expressions in Python"
   ]
  },
  {
   "cell_type": "code",
   "execution_count": 2,
   "id": "51237e45-8801-4de1-9de9-0cd911420164",
   "metadata": {
    "tags": []
   },
   "outputs": [
    {
     "data": {
      "text/plain": [
       "-1"
      ]
     },
     "execution_count": 2,
     "metadata": {},
     "output_type": "execute_result"
    }
   ],
   "source": [
    "7-8"
   ]
  },
  {
   "cell_type": "code",
   "execution_count": 3,
   "id": "e5d45c45-2a4f-4ee9-bee5-83fa740ba17f",
   "metadata": {
    "tags": []
   },
   "outputs": [
    {
     "data": {
      "text/plain": [
       "588"
      ]
     },
     "execution_count": 3,
     "metadata": {},
     "output_type": "execute_result"
    }
   ],
   "source": [
    "6*98"
   ]
  },
  {
   "cell_type": "code",
   "execution_count": 5,
   "id": "087d45f4-1903-4d74-a20e-e852fa733dec",
   "metadata": {
    "tags": []
   },
   "outputs": [
    {
     "data": {
      "text/plain": [
       "17"
      ]
     },
     "execution_count": 5,
     "metadata": {},
     "output_type": "execute_result"
    }
   ],
   "source": [
    "#This a simple arithmetic expression to mutiply then add integers\n",
    "(3*4)+5"
   ]
  },
  {
   "cell_type": "code",
   "execution_count": 8,
   "id": "42cf8a36-c4ce-4d4a-a2f8-8d46cde82d64",
   "metadata": {
    "tags": []
   },
   "outputs": [
    {
     "data": {
      "text/plain": [
       "3.3333333333333335"
      ]
     },
     "execution_count": 8,
     "metadata": {},
     "output_type": "execute_result"
    }
   ],
   "source": [
    "# This will convert 200 minutes to hours by diving by 60\n",
    "200/60"
   ]
  },
  {
   "cell_type": "code",
   "execution_count": null,
   "id": "845a8e8a-34e1-4fc5-85b7-47a5fddfa9b2",
   "metadata": {},
   "outputs": [],
   "source": []
  }
 ],
 "metadata": {
  "kernelspec": {
   "display_name": "Python",
   "language": "python",
   "name": "conda-env-python-py"
  },
  "language_info": {
   "codemirror_mode": {
    "name": "ipython",
    "version": 3
   },
   "file_extension": ".py",
   "mimetype": "text/x-python",
   "name": "python",
   "nbconvert_exporter": "python",
   "pygments_lexer": "ipython3",
   "version": "3.7.12"
  }
 },
 "nbformat": 4,
 "nbformat_minor": 5
}
